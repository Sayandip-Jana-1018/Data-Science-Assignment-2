{
 "cells": [
  {
   "cell_type": "code",
   "execution_count": null,
   "id": "9a3d2b23-42a1-4712-bcb1-e8e39f1ce6a7",
   "metadata": {},
   "outputs": [],
   "source": [
    "# Q1. Create a python program to sort the given list of tuples based on integer value using a lambda function.\n",
    "# [('Sachin Tendulkar', 34357), ('Ricky Ponting', 27483), ('Jack Kallis', 25534), ('Virat Kohli', 24936)]"
   ]
  },
  {
   "cell_type": "code",
   "execution_count": 1,
   "id": "679d57bb-82ce-4b65-980a-1698a8eb9feb",
   "metadata": {},
   "outputs": [],
   "source": [
    "l = [('Sachin Tendulkar', 34357), ('Ricky Ponting', 27483), ('Jack Kallis', 25534), ('Virat Kohli', 24936)]"
   ]
  },
  {
   "cell_type": "code",
   "execution_count": 2,
   "id": "00a9d127-d3c8-482b-b03a-30e37fb2ce7d",
   "metadata": {},
   "outputs": [],
   "source": [
    "s = sorted(l)"
   ]
  },
  {
   "cell_type": "code",
   "execution_count": null,
   "id": "4f0de55a-1957-4962-bd02-220e11da3148",
   "metadata": {},
   "outputs": [
    {
     "data": {
      "text/plain": [
       "[('Jack Kallis', 25534),\n",
       " ('Ricky Ponting', 27483),\n",
       " ('Sachin Tendulkar', 34357),\n",
       " ('Virat Kohli', 24936)]"
      ]
     },
     "execution_count": 3,
     "metadata": {},
     "output_type": "execute_result"
    }
   ],
   "source": [
    "s"
   ]
  },
  {
   "cell_type": "code",
   "execution_count": 4,
   "id": "1fdbfc72-c713-4726-837f-ce562be0b90f",
   "metadata": {},
   "outputs": [],
   "source": [
    "# Q2. Write a Python Program to find the squares of all the numbers in the given list of integers using lambda and map functions.\n",
    "# [1, 2, 3, 4, 5, 6, 7, 8, 9, 10]"
   ]
  },
  {
   "cell_type": "code",
   "execution_count": 8,
   "id": "82512cd6-6bf3-4b38-a0e1-19b70ae1e5e7",
   "metadata": {},
   "outputs": [],
   "source": [
    "p =  [1, 2, 3, 4, 5, 6, 7, 8, 9, 10]"
   ]
  },
  {
   "cell_type": "code",
   "execution_count": 13,
   "id": "eb47f8e8-2e18-418d-8c67-f00eb0c6ca67",
   "metadata": {},
   "outputs": [],
   "source": [
    "a = list(map(lambda x: x**2, p))"
   ]
  },
  {
   "cell_type": "code",
   "execution_count": 14,
   "id": "6ca85d85-1026-4307-9f9b-7ce29bc0b298",
   "metadata": {},
   "outputs": [
    {
     "data": {
      "text/plain": [
       "[1, 4, 9, 16, 25, 36, 49, 64, 81, 100]"
      ]
     },
     "execution_count": 14,
     "metadata": {},
     "output_type": "execute_result"
    }
   ],
   "source": [
    "a"
   ]
  },
  {
   "cell_type": "code",
   "execution_count": 16,
   "id": "1386bca1-1a96-4ba8-a0fc-dc6a4786f1ef",
   "metadata": {},
   "outputs": [],
   "source": [
    "# Q3. Write a python program to convert the given list of integers into a tuple of strings. Use map and lambda functions\n",
    "# Given String: [1, 2, 3, 4, 5, 6, 7, 8, 9, 10]\n",
    "# Expected output: ('1', '2', '3', '4', '5', '6', '7', '8', '9', '10')\n"
   ]
  },
  {
   "cell_type": "code",
   "execution_count": 20,
   "id": "bd3eda4e-1298-47f4-a3cc-fd65254cd7e9",
   "metadata": {},
   "outputs": [],
   "source": [
    "str1 = [1, 2, 3, 4, 5, 6, 7, 8, 9, 10]"
   ]
  },
  {
   "cell_type": "code",
   "execution_count": 48,
   "id": "94648305-be70-45ec-9976-eb794d91656d",
   "metadata": {},
   "outputs": [
    {
     "ename": "TypeError",
     "evalue": "'list' object is not callable",
     "output_type": "error",
     "traceback": [
      "\u001b[0;31m---------------------------------------------------------------------------\u001b[0m",
      "\u001b[0;31mTypeError\u001b[0m                                 Traceback (most recent call last)",
      "Cell \u001b[0;32mIn[48], line 1\u001b[0m\n\u001b[0;32m----> 1\u001b[0m l \u001b[38;5;241m=\u001b[39m \u001b[38;5;28;43mtuple\u001b[39;49m\u001b[43m(\u001b[49m\u001b[38;5;28;43mmap\u001b[39;49m\u001b[43m(\u001b[49m\u001b[38;5;28;43;01mlambda\u001b[39;49;00m\u001b[43m \u001b[49m\u001b[43mx\u001b[49m\u001b[43m:\u001b[49m\u001b[43m \u001b[49m\u001b[38;5;28;43mstr\u001b[39;49m\u001b[43m(\u001b[49m\u001b[43mx\u001b[49m\u001b[43m)\u001b[49m\u001b[43m,\u001b[49m\u001b[43m \u001b[49m\u001b[43mstr1\u001b[49m\u001b[43m)\u001b[49m\u001b[43m)\u001b[49m\n",
      "Cell \u001b[0;32mIn[48], line 1\u001b[0m, in \u001b[0;36m<lambda>\u001b[0;34m(x)\u001b[0m\n\u001b[0;32m----> 1\u001b[0m l \u001b[38;5;241m=\u001b[39m \u001b[38;5;28mtuple\u001b[39m(\u001b[38;5;28mmap\u001b[39m(\u001b[38;5;28;01mlambda\u001b[39;00m x: \u001b[38;5;28;43mstr\u001b[39;49m\u001b[43m(\u001b[49m\u001b[43mx\u001b[49m\u001b[43m)\u001b[49m, str1))\n",
      "\u001b[0;31mTypeError\u001b[0m: 'list' object is not callable"
     ]
    }
   ],
   "source": [
    "l = tuple(map(lambda x: str(x), str1)) #this is giving error sir...can't understand why..!! So I tried another way of doing it below.."
   ]
  },
  {
   "cell_type": "code",
   "execution_count": 49,
   "id": "c653a34e-1a92-40af-975a-687fc8a77d40",
   "metadata": {},
   "outputs": [],
   "source": [
    "l = tuple(map(lambda x: '{}'.format(x), str1)) #it works sir..!!"
   ]
  },
  {
   "cell_type": "code",
   "execution_count": 50,
   "id": "e5d1cb57-e128-41c6-b013-bc19a02094c9",
   "metadata": {},
   "outputs": [
    {
     "data": {
      "text/plain": [
       "('1', '2', '3', '4', '5', '6', '7', '8', '9', '10')"
      ]
     },
     "execution_count": 50,
     "metadata": {},
     "output_type": "execute_result"
    }
   ],
   "source": [
    "l"
   ]
  },
  {
   "cell_type": "code",
   "execution_count": 51,
   "id": "4f79a76d-5a7c-4e18-b804-04def4684ef0",
   "metadata": {},
   "outputs": [],
   "source": [
    "# Q4. Write a python program using reduce function to compute the product of a list containing numbers from 1 to 25."
   ]
  },
  {
   "cell_type": "code",
   "execution_count": 52,
   "id": "a902b4d6-3e71-4563-8572-4f9116279298",
   "metadata": {},
   "outputs": [],
   "source": [
    "from functools import reduce\n",
    "l = []\n",
    "for  i in range(1,26):\n",
    "    l.append(i)\n",
    "result = reduce(lambda x,y: x*y, l)"
   ]
  },
  {
   "cell_type": "code",
   "execution_count": 53,
   "id": "2283eec2-23a5-4f24-be84-776457878fa7",
   "metadata": {},
   "outputs": [
    {
     "data": {
      "text/plain": [
       "15511210043330985984000000"
      ]
     },
     "execution_count": 53,
     "metadata": {},
     "output_type": "execute_result"
    }
   ],
   "source": [
    "result"
   ]
  },
  {
   "cell_type": "code",
   "execution_count": 56,
   "id": "ca2ccbb0-a67a-4b60-81ef-3d8fe2330df2",
   "metadata": {},
   "outputs": [],
   "source": [
    "# Q5. Write a python program to filter the numbers in a given list that are divisible by 2 and 3 using the filter function.\n",
    "# [2, 3, 6, 9, 27, 60, 90, 120, 55, 46]"
   ]
  },
  {
   "cell_type": "code",
   "execution_count": 4,
   "id": "206e87cd-fea8-422c-b202-34979726276c",
   "metadata": {},
   "outputs": [],
   "source": [
    "l = [2, 3, 6, 9, 27, 60, 90, 120, 55, 46]"
   ]
  },
  {
   "cell_type": "code",
   "execution_count": 60,
   "id": "06a1ccc6-30a8-44dd-9216-5f90b026beed",
   "metadata": {},
   "outputs": [],
   "source": [
    "result = list(filter(lambda x: x%6==0, l))"
   ]
  },
  {
   "cell_type": "code",
   "execution_count": 61,
   "id": "6c2c4e2d-f1d4-49ce-9001-945362f163d5",
   "metadata": {},
   "outputs": [
    {
     "data": {
      "text/plain": [
       "[6, 60, 90, 120]"
      ]
     },
     "execution_count": 61,
     "metadata": {},
     "output_type": "execute_result"
    }
   ],
   "source": [
    "result"
   ]
  },
  {
   "cell_type": "code",
   "execution_count": 1,
   "id": "258eb6a6-e6b4-4356-8649-1a4c5ee96d7a",
   "metadata": {},
   "outputs": [],
   "source": [
    "# Q6. Write a python program to find palindromes in the given list of strings using lambda and filter function.\n",
    "# ['python', 'php', 'aba', 'radar', 'level']"
   ]
  },
  {
   "cell_type": "code",
   "execution_count": 3,
   "id": "a2f12247-8692-44b9-95a7-772f54fab04c",
   "metadata": {},
   "outputs": [],
   "source": [
    "s = ['python', 'php', 'aba', 'radar', 'level']"
   ]
  },
  {
   "cell_type": "code",
   "execution_count": 20,
   "id": "3e8fff82-d61f-4d9a-af70-98691ec57b65",
   "metadata": {},
   "outputs": [],
   "source": [
    "result = list(filter(lambda x: x==x[::-1], s))"
   ]
  },
  {
   "cell_type": "code",
   "execution_count": 21,
   "id": "e5b7ae93-f0f1-49e9-9b85-ae3fddcc7a19",
   "metadata": {},
   "outputs": [
    {
     "data": {
      "text/plain": [
       "['level', 'radar', 'aba', 'php']"
      ]
     },
     "execution_count": 21,
     "metadata": {},
     "output_type": "execute_result"
    }
   ],
   "source": [
    "result"
   ]
  },
  {
   "cell_type": "code",
   "execution_count": null,
   "id": "b1244d8d-4db0-4f28-b0c8-2f1995350b5a",
   "metadata": {},
   "outputs": [],
   "source": []
  }
 ],
 "metadata": {
  "kernelspec": {
   "display_name": "Python 3 (ipykernel)",
   "language": "python",
   "name": "python3"
  },
  "language_info": {
   "codemirror_mode": {
    "name": "ipython",
    "version": 3
   },
   "file_extension": ".py",
   "mimetype": "text/x-python",
   "name": "python",
   "nbconvert_exporter": "python",
   "pygments_lexer": "ipython3",
   "version": "3.10.8"
  }
 },
 "nbformat": 4,
 "nbformat_minor": 5
}
